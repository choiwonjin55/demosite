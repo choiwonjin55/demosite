{
  "cells": [
    {
      "cell_type": "raw",
      "metadata": {},
      "source": [
        "---\n",
        "title: \"About\"\n",
        "image: betti.jpg\n",
        "about:\n",
        "  template: jolla\n",
        "  links:\n",
        "    - icon: naver\n",
        "      text: Naver\n",
        "      href: https://naver.com\n",
        "    - icon: linkedin\n",
        "      text: LinkedIn\n",
        "      href: https://www.linkedin.com/in/%EC%9B%90%EC%A7%84-%EC%B5%9C-aa72bb204/\n",
        "    - icon: github\n",
        "      text: Github\n",
        "      href: https://github.com/choiwonjin55\n",
        "---"
      ],
      "id": "d4b775cf"
    },
    {
      "cell_type": "markdown",
      "metadata": {},
      "source": [
        "------------------------------------------------------------------------\n",
        "\n",
        "안녕하세요 최원진입니다.\n",
        "\n",
        "통계를 사용하여 문제를 해결하는 데 열정적인 데이터 분석가입니다.\n",
        "\n",
        "현재 SFA에서 스마트팩토리 데이터 분석을 담당하고 있습니다.\n",
        "\n",
        "# 경력\n",
        "\n",
        "### 데이터 분석가\n",
        "\n",
        "#### SFA, 2022/10 \\~ 현재\n",
        "\n",
        "### 데이터 분석가\n",
        "\n",
        "#### 베라팜 2022/?? \\~ 2022/??\n",
        "\n",
        "### 데이터 분석가\n",
        "\n",
        "#### 팜한농, 2021/05 \\~ 2022/05\n",
        "\n",
        "\n",
        "```{sql connection=}\n",
        "select *\n",
        "from aa\n",
        "\n",
        "```\n",
        "\n",
        "\n",
        "# 학력\n",
        "\n",
        "### 응용통계학 석사\n",
        "\n",
        "#### 한양대학교, 서울, 2019 \\~ 2021\n",
        "\n",
        "### 응용통계학 학사\n",
        "\n",
        "#### 세종대학교, 서울, 2013 \\~ 2019"
      ],
      "id": "b5aee5f2"
    }
  ],
  "metadata": {
    "kernelspec": {
      "display_name": "Python 3",
      "language": "python",
      "name": "python3"
    }
  },
  "nbformat": 4,
  "nbformat_minor": 5
}